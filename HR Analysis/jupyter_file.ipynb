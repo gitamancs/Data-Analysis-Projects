{
 "cells": [
  {
   "cell_type": "code",
   "execution_count": 42,
   "id": "dc1d8f25",
   "metadata": {},
   "outputs": [],
   "source": [
    "import numpy as np\n",
    "import pandas as pd\n",
    "import matplotlib.pyplot as plt\n",
    "import seaborn as sns"
   ]
  },
  {
   "cell_type": "code",
   "execution_count": 4,
   "id": "ddad4de0",
   "metadata": {},
   "outputs": [],
   "source": [
    "df = pd.read_excel(\"hr-data.xlsx\")"
   ]
  },
  {
   "cell_type": "code",
   "execution_count": 6,
   "id": "e11eea68",
   "metadata": {},
   "outputs": [
    {
     "data": {
      "text/html": [
       "<div>\n",
       "<style scoped>\n",
       "    .dataframe tbody tr th:only-of-type {\n",
       "        vertical-align: middle;\n",
       "    }\n",
       "\n",
       "    .dataframe tbody tr th {\n",
       "        vertical-align: top;\n",
       "    }\n",
       "\n",
       "    .dataframe thead th {\n",
       "        text-align: right;\n",
       "    }\n",
       "</style>\n",
       "<table border=\"1\" class=\"dataframe\">\n",
       "  <thead>\n",
       "    <tr style=\"text-align: right;\">\n",
       "      <th></th>\n",
       "      <th>Name</th>\n",
       "      <th>Gender</th>\n",
       "      <th>Age</th>\n",
       "      <th>Rating</th>\n",
       "      <th>Date Joined</th>\n",
       "      <th>Department</th>\n",
       "      <th>Salary</th>\n",
       "      <th>Country</th>\n",
       "    </tr>\n",
       "  </thead>\n",
       "  <tbody>\n",
       "    <tr>\n",
       "      <th>0</th>\n",
       "      <td>Parasuramudu Jamakayala</td>\n",
       "      <td>Male</td>\n",
       "      <td>20</td>\n",
       "      <td>Average</td>\n",
       "      <td>2020-10-18</td>\n",
       "      <td>Website</td>\n",
       "      <td>112650</td>\n",
       "      <td>IND</td>\n",
       "    </tr>\n",
       "    <tr>\n",
       "      <th>1</th>\n",
       "      <td>Yedukondalu Panditula</td>\n",
       "      <td>Male</td>\n",
       "      <td>32</td>\n",
       "      <td>Above average</td>\n",
       "      <td>2021-04-07</td>\n",
       "      <td>Website</td>\n",
       "      <td>43840</td>\n",
       "      <td>IND</td>\n",
       "    </tr>\n",
       "    <tr>\n",
       "      <th>2</th>\n",
       "      <td>Devsena Veluvalapalli</td>\n",
       "      <td>Female</td>\n",
       "      <td>31</td>\n",
       "      <td>Average</td>\n",
       "      <td>2022-04-12</td>\n",
       "      <td>Procurement</td>\n",
       "      <td>103550</td>\n",
       "      <td>IND</td>\n",
       "    </tr>\n",
       "    <tr>\n",
       "      <th>3</th>\n",
       "      <td>Gopal Venkata</td>\n",
       "      <td>Male</td>\n",
       "      <td>32</td>\n",
       "      <td>Average</td>\n",
       "      <td>2021-05-23</td>\n",
       "      <td>HR</td>\n",
       "      <td>45510</td>\n",
       "      <td>IND</td>\n",
       "    </tr>\n",
       "    <tr>\n",
       "      <th>4</th>\n",
       "      <td>Vasavi Veeravasarapu</td>\n",
       "      <td>Female</td>\n",
       "      <td>37</td>\n",
       "      <td>Poor</td>\n",
       "      <td>2020-09-11</td>\n",
       "      <td>Finance</td>\n",
       "      <td>115440</td>\n",
       "      <td>IND</td>\n",
       "    </tr>\n",
       "  </tbody>\n",
       "</table>\n",
       "</div>"
      ],
      "text/plain": [
       "                      Name  Gender  Age         Rating Date Joined  \\\n",
       "0  Parasuramudu Jamakayala    Male   20        Average  2020-10-18   \n",
       "1    Yedukondalu Panditula    Male   32  Above average  2021-04-07   \n",
       "2    Devsena Veluvalapalli  Female   31        Average  2022-04-12   \n",
       "3            Gopal Venkata    Male   32        Average  2021-05-23   \n",
       "4     Vasavi Veeravasarapu  Female   37           Poor  2020-09-11   \n",
       "\n",
       "    Department  Salary Country  \n",
       "0      Website  112650     IND  \n",
       "1      Website   43840     IND  \n",
       "2  Procurement  103550     IND  \n",
       "3           HR   45510     IND  \n",
       "4      Finance  115440     IND  "
      ]
     },
     "execution_count": 6,
     "metadata": {},
     "output_type": "execute_result"
    }
   ],
   "source": [
    "df.head()"
   ]
  },
  {
   "cell_type": "markdown",
   "id": "4d883726",
   "metadata": {},
   "source": [
    "### Business Problem\n",
    "1. How many people are there in each department?\n",
    "2. Gender distribution by department\n",
    "3. Age spread of our staff (histogram)\n",
    "4. Min / max / average salary in each department\n",
    "5. Top earners in each country\n",
    "6. Performance Spread (sort by column)\n",
    "7. Company growth trend\n",
    "8. Employee Filter (by starting letter)\n",
    "9. Performance vs. Salary - is there any relationship?\n",
    "10. India vs. New Zealand - quick scorecard"
   ]
  },
  {
   "cell_type": "code",
   "execution_count": 7,
   "id": "6c6f88d0",
   "metadata": {},
   "outputs": [
    {
     "name": "stdout",
     "output_type": "stream",
     "text": [
      "<class 'pandas.core.frame.DataFrame'>\n",
      "RangeIndex: 183 entries, 0 to 182\n",
      "Data columns (total 8 columns):\n",
      " #   Column       Non-Null Count  Dtype         \n",
      "---  ------       --------------  -----         \n",
      " 0   Name         183 non-null    object        \n",
      " 1   Gender       183 non-null    object        \n",
      " 2   Age          183 non-null    int64         \n",
      " 3   Rating       183 non-null    object        \n",
      " 4   Date Joined  183 non-null    datetime64[ns]\n",
      " 5   Department   183 non-null    object        \n",
      " 6   Salary       183 non-null    int64         \n",
      " 7   Country      183 non-null    object        \n",
      "dtypes: datetime64[ns](1), int64(2), object(5)\n",
      "memory usage: 11.6+ KB\n"
     ]
    }
   ],
   "source": [
    "df.info()"
   ]
  },
  {
   "cell_type": "code",
   "execution_count": 9,
   "id": "2c54128b",
   "metadata": {},
   "outputs": [
    {
     "data": {
      "text/plain": [
       "Name           0\n",
       "Gender         0\n",
       "Age            0\n",
       "Rating         0\n",
       "Date Joined    0\n",
       "Department     0\n",
       "Salary         0\n",
       "Country        0\n",
       "dtype: int64"
      ]
     },
     "execution_count": 9,
     "metadata": {},
     "output_type": "execute_result"
    }
   ],
   "source": [
    "df.isnull().sum()"
   ]
  },
  {
   "cell_type": "code",
   "execution_count": 11,
   "id": "2c335a5d",
   "metadata": {},
   "outputs": [
    {
     "data": {
      "text/plain": [
       "0"
      ]
     },
     "execution_count": 11,
     "metadata": {},
     "output_type": "execute_result"
    }
   ],
   "source": [
    "df.duplicated().sum()"
   ]
  },
  {
   "cell_type": "code",
   "execution_count": 28,
   "id": "dfbb0f88",
   "metadata": {
    "collapsed": true
   },
   "outputs": [
    {
     "name": "stdout",
     "output_type": "stream",
     "text": [
      "\n",
      " -------------------- NAME --------------------\n",
      "Name\n",
      "Parasuramudu Jamakayala    1\n",
      "Esmaria Denecamp           1\n",
      "Barr Faughny               1\n",
      "Merrilee Plenty            1\n",
      "Niall Selesnick            1\n",
      "                          ..\n",
      "Sawini Chandan             1\n",
      "Baruna Ogale               1\n",
      "Jagajeet Viraj             1\n",
      "Kulbhushan Moorthy         1\n",
      "Zach Polon                 1\n",
      "Name: count, Length: 183, dtype: int64\n",
      "\n",
      " -------------------- GENDER --------------------\n",
      "Gender\n",
      "Male      92\n",
      "Female    85\n",
      "Other      6\n",
      "Name: count, dtype: int64\n",
      "\n",
      " -------------------- AGE --------------------\n",
      "Age\n",
      "33    20\n",
      "30    18\n",
      "28    14\n",
      "27    13\n",
      "34    11\n",
      "36    10\n",
      "32    10\n",
      "21    10\n",
      "20     8\n",
      "25     8\n",
      "37     8\n",
      "31     8\n",
      "40     6\n",
      "24     6\n",
      "26     5\n",
      "38     4\n",
      "22     4\n",
      "42     4\n",
      "29     4\n",
      "43     3\n",
      "35     2\n",
      "23     2\n",
      "19     2\n",
      "46     2\n",
      "44     1\n",
      "Name: count, dtype: int64\n",
      "\n",
      " -------------------- RATING --------------------\n",
      "Rating\n",
      "Average          137\n",
      "Above average     20\n",
      "Poor              16\n",
      "Very poor          6\n",
      "Exceptional        4\n",
      "Name: count, dtype: int64\n",
      "\n",
      " -------------------- DATE JOINED --------------------\n",
      "Date Joined\n",
      "2022-05-20    4\n",
      "2022-03-20    3\n",
      "2020-10-18    2\n",
      "2021-07-12    2\n",
      "2022-05-05    2\n",
      "             ..\n",
      "2021-04-30    1\n",
      "2021-01-08    1\n",
      "2020-09-10    1\n",
      "2021-03-17    1\n",
      "2021-08-03    1\n",
      "Name: count, Length: 160, dtype: int64\n",
      "\n",
      " -------------------- DEPARTMENT --------------------\n",
      "Department\n",
      "Procurement    55\n",
      "Website        54\n",
      "Finance        38\n",
      "Sales          28\n",
      "HR              8\n",
      "Name: count, dtype: int64\n",
      "\n",
      " -------------------- SALARY --------------------\n",
      "Salary\n",
      "53540     4\n",
      "112650    3\n",
      "86570     2\n",
      "71380     2\n",
      "41980     2\n",
      "         ..\n",
      "112570    2\n",
      "41570     2\n",
      "114870    2\n",
      "58100     2\n",
      "96140     2\n",
      "Name: count, Length: 90, dtype: int64\n",
      "\n",
      " -------------------- COUNTRY --------------------\n",
      "Country\n",
      "IND    92\n",
      "NZ     91\n",
      "Name: count, dtype: int64\n"
     ]
    }
   ],
   "source": [
    "for cols in df.columns:\n",
    "    print(\"\\n\",\"-\"*20,cols.upper(),\"-\"*20)\n",
    "    print(df[cols].value_counts())"
   ]
  },
  {
   "cell_type": "markdown",
   "id": "10ffd85e",
   "metadata": {},
   "source": [
    "### How many people are there in each department\n",
    "### Gender distribution by department"
   ]
  },
  {
   "cell_type": "code",
   "execution_count": 32,
   "id": "79d6d6c1",
   "metadata": {
    "scrolled": true
   },
   "outputs": [
    {
     "data": {
      "text/plain": [
       "Department\n",
       "Procurement    55\n",
       "Website        54\n",
       "Finance        38\n",
       "Sales          28\n",
       "HR              8\n",
       "Name: count, dtype: int64"
      ]
     },
     "execution_count": 32,
     "metadata": {},
     "output_type": "execute_result"
    }
   ],
   "source": [
    "df.Department.value_counts()"
   ]
  },
  {
   "cell_type": "code",
   "execution_count": 57,
   "id": "7d13eba8",
   "metadata": {},
   "outputs": [
    {
     "data": {
      "text/html": [
       "<div>\n",
       "<style scoped>\n",
       "    .dataframe tbody tr th:only-of-type {\n",
       "        vertical-align: middle;\n",
       "    }\n",
       "\n",
       "    .dataframe tbody tr th {\n",
       "        vertical-align: top;\n",
       "    }\n",
       "\n",
       "    .dataframe thead th {\n",
       "        text-align: right;\n",
       "    }\n",
       "</style>\n",
       "<table border=\"1\" class=\"dataframe\">\n",
       "  <thead>\n",
       "    <tr style=\"text-align: right;\">\n",
       "      <th></th>\n",
       "      <th></th>\n",
       "      <th>count</th>\n",
       "    </tr>\n",
       "    <tr>\n",
       "      <th>Department</th>\n",
       "      <th>Gender</th>\n",
       "      <th></th>\n",
       "    </tr>\n",
       "  </thead>\n",
       "  <tbody>\n",
       "    <tr>\n",
       "      <th rowspan=\"3\" valign=\"top\">Finance</th>\n",
       "      <th>Female</th>\n",
       "      <td>19</td>\n",
       "    </tr>\n",
       "    <tr>\n",
       "      <th>Male</th>\n",
       "      <td>16</td>\n",
       "    </tr>\n",
       "    <tr>\n",
       "      <th>Other</th>\n",
       "      <td>3</td>\n",
       "    </tr>\n",
       "    <tr>\n",
       "      <th rowspan=\"2\" valign=\"top\">HR</th>\n",
       "      <th>Female</th>\n",
       "      <td>5</td>\n",
       "    </tr>\n",
       "    <tr>\n",
       "      <th>Male</th>\n",
       "      <td>3</td>\n",
       "    </tr>\n",
       "    <tr>\n",
       "      <th rowspan=\"2\" valign=\"top\">Procurement</th>\n",
       "      <th>Male</th>\n",
       "      <td>32</td>\n",
       "    </tr>\n",
       "    <tr>\n",
       "      <th>Female</th>\n",
       "      <td>23</td>\n",
       "    </tr>\n",
       "    <tr>\n",
       "      <th rowspan=\"2\" valign=\"top\">Sales</th>\n",
       "      <th>Male</th>\n",
       "      <td>17</td>\n",
       "    </tr>\n",
       "    <tr>\n",
       "      <th>Female</th>\n",
       "      <td>11</td>\n",
       "    </tr>\n",
       "    <tr>\n",
       "      <th rowspan=\"3\" valign=\"top\">Website</th>\n",
       "      <th>Female</th>\n",
       "      <td>27</td>\n",
       "    </tr>\n",
       "    <tr>\n",
       "      <th>Male</th>\n",
       "      <td>24</td>\n",
       "    </tr>\n",
       "    <tr>\n",
       "      <th>Other</th>\n",
       "      <td>3</td>\n",
       "    </tr>\n",
       "  </tbody>\n",
       "</table>\n",
       "</div>"
      ],
      "text/plain": [
       "                    count\n",
       "Department  Gender       \n",
       "Finance     Female     19\n",
       "            Male       16\n",
       "            Other       3\n",
       "HR          Female      5\n",
       "            Male        3\n",
       "Procurement Male       32\n",
       "            Female     23\n",
       "Sales       Male       17\n",
       "            Female     11\n",
       "Website     Female     27\n",
       "            Male       24\n",
       "            Other       3"
      ]
     },
     "execution_count": 57,
     "metadata": {},
     "output_type": "execute_result"
    }
   ],
   "source": [
    "pd.DataFrame(df.groupby('Department')['Gender'].value_counts())"
   ]
  },
  {
   "cell_type": "code",
   "execution_count": 60,
   "id": "93b7ebfb",
   "metadata": {},
   "outputs": [
    {
     "data": {
      "image/png": "[encoded data removed]",
      "text/plain": [
       "<Figure size 1000x400 with 2 Axes>"
      ]
     },
     "metadata": {},
     "output_type": "display_data"
    }
   ],
   "source": [
    "plt.figure(figsize=(10,4))\n",
    "\n",
    "plt.subplot(1,2,1)\n",
    "ax = sns.countplot(x=df.Department)\n",
    "ax.bar_label(ax.containers[0])\n",
    "\n",
    "plt.subplot(1,2,2)\n",
    "ax = sns.countplot(x=df.Department, hue= df.Gender)\n",
    "ax.bar_label(ax.containers[0])\n",
    "\n",
    "plt.tight_layout()"
   ]
  },
  {
   "cell_type": "markdown",
   "id": "8320b3c4",
   "metadata": {},
   "source": [
    "### Age spread of our staff (histogram)"
   ]
  },
  {
   "cell_type": "code",
   "execution_count": 83,
   "id": "c78fbbf4",
   "metadata": {
    "scrolled": false
   },
   "outputs": [
    {
     "data": {
      "text/plain": [
       "<Axes: xlabel='Age', ylabel='Count'>"
      ]
     },
     "execution_count": 83,
     "metadata": {},
     "output_type": "execute_result"
    },
    {
     "data": {
      "image/png": "[encoded data removed]",
      "text/plain": [
       "<Figure size 1000x400 with 1 Axes>"
      ]
     },
     "metadata": {},
     "output_type": "display_data"
    }
   ],
   "source": [
    "plt.figure(figsize=(10,4))\n",
    "sns.histplot(df.Age, kde = True, bins=20)"
   ]
  },
  {
   "cell_type": "markdown",
   "id": "4b0e5b0e",
   "metadata": {},
   "source": [
    "### Min / max / average salary in each department"
   ]
  },
  {
   "cell_type": "code",
   "execution_count": 120,
   "id": "038c6e47",
   "metadata": {},
   "outputs": [],
   "source": [
    "min = list(df.groupby('Department')['Salary'].min())\n",
    "max = list(df.groupby('Department')['Salary'].max())\n",
    "avg = list(df.groupby('Department')['Salary'].mean())\n",
    "name = list(df.groupby('Department')['Salary'].mean().index)"
   ]
  },
  {
   "cell_type": "code",
   "execution_count": 121,
   "id": "908fad10",
   "metadata": {},
   "outputs": [
    {
     "data": {
      "text/plain": [
       "([48170, 45510, 37920, 36040, 33920],\n",
       " [115440, 119110, 115920, 112780, 118840],\n",
       " [72472.63157894737, 89650.0, 81794.0, 67866.42857142857, 78753.70370370371])"
      ]
     },
     "execution_count": 121,
     "metadata": {},
     "output_type": "execute_result"
    }
   ],
   "source": [
    "min,max,avg"
   ]
  },
  {
   "cell_type": "code",
   "execution_count": 123,
   "id": "c5e0f6a8",
   "metadata": {},
   "outputs": [],
   "source": [
    "data = pd.DataFrame({'name':name, 'minmum':min,'maximum':max,'Average':avg})"
   ]
  },
  {
   "cell_type": "code",
   "execution_count": 124,
   "id": "f5c3371b",
   "metadata": {},
   "outputs": [
    {
     "data": {
      "text/html": [
       "<div>\n",
       "<style scoped>\n",
       "    .dataframe tbody tr th:only-of-type {\n",
       "        vertical-align: middle;\n",
       "    }\n",
       "\n",
       "    .dataframe tbody tr th {\n",
       "        vertical-align: top;\n",
       "    }\n",
       "\n",
       "    .dataframe thead th {\n",
       "        text-align: right;\n",
       "    }\n",
       "</style>\n",
       "<table border=\"1\" class=\"dataframe\">\n",
       "  <thead>\n",
       "    <tr style=\"text-align: right;\">\n",
       "      <th></th>\n",
       "      <th>name</th>\n",
       "      <th>minmum</th>\n",
       "      <th>maximum</th>\n",
       "      <th>Average</th>\n",
       "    </tr>\n",
       "  </thead>\n",
       "  <tbody>\n",
       "    <tr>\n",
       "      <th>0</th>\n",
       "      <td>Finance</td>\n",
       "      <td>48170</td>\n",
       "      <td>115440</td>\n",
       "      <td>72472.631579</td>\n",
       "    </tr>\n",
       "    <tr>\n",
       "      <th>1</th>\n",
       "      <td>HR</td>\n",
       "      <td>45510</td>\n",
       "      <td>119110</td>\n",
       "      <td>89650.000000</td>\n",
       "    </tr>\n",
       "    <tr>\n",
       "      <th>2</th>\n",
       "      <td>Procurement</td>\n",
       "      <td>37920</td>\n",
       "      <td>115920</td>\n",
       "      <td>81794.000000</td>\n",
       "    </tr>\n",
       "    <tr>\n",
       "      <th>3</th>\n",
       "      <td>Sales</td>\n",
       "      <td>36040</td>\n",
       "      <td>112780</td>\n",
       "      <td>67866.428571</td>\n",
       "    </tr>\n",
       "    <tr>\n",
       "      <th>4</th>\n",
       "      <td>Website</td>\n",
       "      <td>33920</td>\n",
       "      <td>118840</td>\n",
       "      <td>78753.703704</td>\n",
       "    </tr>\n",
       "  </tbody>\n",
       "</table>\n",
       "</div>"
      ],
      "text/plain": [
       "          name  minmum  maximum       Average\n",
       "0      Finance   48170   115440  72472.631579\n",
       "1           HR   45510   119110  89650.000000\n",
       "2  Procurement   37920   115920  81794.000000\n",
       "3        Sales   36040   112780  67866.428571\n",
       "4      Website   33920   118840  78753.703704"
      ]
     },
     "execution_count": 124,
     "metadata": {},
     "output_type": "execute_result"
    }
   ],
   "source": [
    "data"
   ]
  },
  {
   "cell_type": "code",
   "execution_count": 145,
   "id": "182cade8",
   "metadata": {},
   "outputs": [
    {
     "data": {
      "image/png": "[encoded data removed]",
      "text/plain": [
       "<Figure size 1000x800 with 3 Axes>"
      ]
     },
     "metadata": {},
     "output_type": "display_data"
    }
   ],
   "source": [
    "plt.figure(figsize=(10,8))\n",
    "\n",
    "plt.subplot(2,2,1)\n",
    "ax = sns.barplot(x=data.name, y = data.minmum, data= data)\n",
    "ax.bar_label(ax.containers[0])\n",
    "\n",
    "plt.subplot(2,2,2)\n",
    "ax = sns.barplot(x=data.name, y = data.maximum, data= data)\n",
    "ax.bar_label(ax.containers[0])\n",
    "\n",
    "plt.subplot(2,2,3)\n",
    "ax = sns.barplot(x=data.name, y = data.Average, data= data)\n",
    "ax.bar_label(ax.containers[0])\n",
    "\n",
    "\n",
    "plt.tight_layout()"
   ]
  },
  {
   "cell_type": "markdown",
   "id": "0bf9b15e",
   "metadata": {},
   "source": [
    "### Top earners in each country"
   ]
  },
  {
   "cell_type": "code",
   "execution_count": 172,
   "id": "65c7db45",
   "metadata": {},
   "outputs": [
    {
     "data": {
      "text/html": [
       "<div>\n",
       "<style scoped>\n",
       "    .dataframe tbody tr th:only-of-type {\n",
       "        vertical-align: middle;\n",
       "    }\n",
       "\n",
       "    .dataframe tbody tr th {\n",
       "        vertical-align: top;\n",
       "    }\n",
       "\n",
       "    .dataframe thead th {\n",
       "        text-align: right;\n",
       "    }\n",
       "</style>\n",
       "<table border=\"1\" class=\"dataframe\">\n",
       "  <thead>\n",
       "    <tr style=\"text-align: right;\">\n",
       "      <th></th>\n",
       "      <th>Name</th>\n",
       "      <th>Gender</th>\n",
       "      <th>Age</th>\n",
       "      <th>Rating</th>\n",
       "      <th>Date Joined</th>\n",
       "      <th>Department</th>\n",
       "      <th>Salary</th>\n",
       "      <th>Country</th>\n",
       "    </tr>\n",
       "  </thead>\n",
       "  <tbody>\n",
       "    <tr>\n",
       "      <th>0</th>\n",
       "      <td>Parasuramudu Jamakayala</td>\n",
       "      <td>Male</td>\n",
       "      <td>20</td>\n",
       "      <td>Average</td>\n",
       "      <td>2020-10-18</td>\n",
       "      <td>Website</td>\n",
       "      <td>112650</td>\n",
       "      <td>IND</td>\n",
       "    </tr>\n",
       "    <tr>\n",
       "      <th>1</th>\n",
       "      <td>Yedukondalu Panditula</td>\n",
       "      <td>Male</td>\n",
       "      <td>32</td>\n",
       "      <td>Above average</td>\n",
       "      <td>2021-04-07</td>\n",
       "      <td>Website</td>\n",
       "      <td>43840</td>\n",
       "      <td>IND</td>\n",
       "    </tr>\n",
       "    <tr>\n",
       "      <th>2</th>\n",
       "      <td>Devsena Veluvalapalli</td>\n",
       "      <td>Female</td>\n",
       "      <td>31</td>\n",
       "      <td>Average</td>\n",
       "      <td>2022-04-12</td>\n",
       "      <td>Procurement</td>\n",
       "      <td>103550</td>\n",
       "      <td>IND</td>\n",
       "    </tr>\n",
       "    <tr>\n",
       "      <th>3</th>\n",
       "      <td>Gopal Venkata</td>\n",
       "      <td>Male</td>\n",
       "      <td>32</td>\n",
       "      <td>Average</td>\n",
       "      <td>2021-05-23</td>\n",
       "      <td>HR</td>\n",
       "      <td>45510</td>\n",
       "      <td>IND</td>\n",
       "    </tr>\n",
       "  </tbody>\n",
       "</table>\n",
       "</div>"
      ],
      "text/plain": [
       "                      Name  Gender  Age         Rating Date Joined  \\\n",
       "0  Parasuramudu Jamakayala    Male   20        Average  2020-10-18   \n",
       "1    Yedukondalu Panditula    Male   32  Above average  2021-04-07   \n",
       "2    Devsena Veluvalapalli  Female   31        Average  2022-04-12   \n",
       "3            Gopal Venkata    Male   32        Average  2021-05-23   \n",
       "\n",
       "    Department  Salary Country  \n",
       "0      Website  112650     IND  \n",
       "1      Website   43840     IND  \n",
       "2  Procurement  103550     IND  \n",
       "3           HR   45510     IND  "
      ]
     },
     "execution_count": 172,
     "metadata": {},
     "output_type": "execute_result"
    }
   ],
   "source": [
    "df.head(4)"
   ]
  },
  {
   "cell_type": "code",
   "execution_count": 171,
   "id": "987af049",
   "metadata": {
    "scrolled": true
   },
   "outputs": [
    {
     "data": {
      "text/plain": [
       "Country\n",
       "IND    77366.521739\n",
       "NZ     76978.791209\n",
       "Name: Salary, dtype: float64"
      ]
     },
     "execution_count": 171,
     "metadata": {},
     "output_type": "execute_result"
    }
   ],
   "source": [
    "df.groupby(['Country'])['Salary'].mean()"
   ]
  },
  {
   "cell_type": "code",
   "execution_count": 161,
   "id": "8e9fc001",
   "metadata": {},
   "outputs": [
    {
     "data": {
      "text/plain": [
       "Country  Department \n",
       "IND      Finance        72472.631579\n",
       "         HR             89650.000000\n",
       "         Procurement    82345.000000\n",
       "         Sales          67866.428571\n",
       "         Website        78753.703704\n",
       "NZ       Finance        72472.631579\n",
       "         HR             89650.000000\n",
       "         Procurement    81222.592593\n",
       "         Sales          67866.428571\n",
       "         Website        78753.703704\n",
       "Name: Salary, dtype: float64"
      ]
     },
     "execution_count": 161,
     "metadata": {},
     "output_type": "execute_result"
    }
   ],
   "source": [
    "df.groupby(['Country','Department'])['Salary'].mean()"
   ]
  },
  {
   "cell_type": "markdown",
   "id": "7bd953a5",
   "metadata": {},
   "source": [
    "### Performance Spread (sort by column)"
   ]
  },
  {
   "cell_type": "code",
   "execution_count": 173,
   "id": "49b8c25c",
   "metadata": {},
   "outputs": [
    {
     "data": {
      "text/html": [
       "<div>\n",
       "<style scoped>\n",
       "    .dataframe tbody tr th:only-of-type {\n",
       "        vertical-align: middle;\n",
       "    }\n",
       "\n",
       "    .dataframe tbody tr th {\n",
       "        vertical-align: top;\n",
       "    }\n",
       "\n",
       "    .dataframe thead th {\n",
       "        text-align: right;\n",
       "    }\n",
       "</style>\n",
       "<table border=\"1\" class=\"dataframe\">\n",
       "  <thead>\n",
       "    <tr style=\"text-align: right;\">\n",
       "      <th></th>\n",
       "      <th>Name</th>\n",
       "      <th>Gender</th>\n",
       "      <th>Age</th>\n",
       "      <th>Rating</th>\n",
       "      <th>Date Joined</th>\n",
       "      <th>Department</th>\n",
       "      <th>Salary</th>\n",
       "      <th>Country</th>\n",
       "    </tr>\n",
       "  </thead>\n",
       "  <tbody>\n",
       "    <tr>\n",
       "      <th>0</th>\n",
       "      <td>Parasuramudu Jamakayala</td>\n",
       "      <td>Male</td>\n",
       "      <td>20</td>\n",
       "      <td>Average</td>\n",
       "      <td>2020-10-18</td>\n",
       "      <td>Website</td>\n",
       "      <td>112650</td>\n",
       "      <td>IND</td>\n",
       "    </tr>\n",
       "    <tr>\n",
       "      <th>1</th>\n",
       "      <td>Yedukondalu Panditula</td>\n",
       "      <td>Male</td>\n",
       "      <td>32</td>\n",
       "      <td>Above average</td>\n",
       "      <td>2021-04-07</td>\n",
       "      <td>Website</td>\n",
       "      <td>43840</td>\n",
       "      <td>IND</td>\n",
       "    </tr>\n",
       "    <tr>\n",
       "      <th>2</th>\n",
       "      <td>Devsena Veluvalapalli</td>\n",
       "      <td>Female</td>\n",
       "      <td>31</td>\n",
       "      <td>Average</td>\n",
       "      <td>2022-04-12</td>\n",
       "      <td>Procurement</td>\n",
       "      <td>103550</td>\n",
       "      <td>IND</td>\n",
       "    </tr>\n",
       "  </tbody>\n",
       "</table>\n",
       "</div>"
      ],
      "text/plain": [
       "                      Name  Gender  Age         Rating Date Joined  \\\n",
       "0  Parasuramudu Jamakayala    Male   20        Average  2020-10-18   \n",
       "1    Yedukondalu Panditula    Male   32  Above average  2021-04-07   \n",
       "2    Devsena Veluvalapalli  Female   31        Average  2022-04-12   \n",
       "\n",
       "    Department  Salary Country  \n",
       "0      Website  112650     IND  \n",
       "1      Website   43840     IND  \n",
       "2  Procurement  103550     IND  "
      ]
     },
     "execution_count": 173,
     "metadata": {},
     "output_type": "execute_result"
    }
   ],
   "source": [
    "df.head(3)"
   ]
  },
  {
   "cell_type": "code",
   "execution_count": 174,
   "id": "d546d64d",
   "metadata": {},
   "outputs": [
    {
     "data": {
      "text/plain": [
       "Rating\n",
       "Average          137\n",
       "Above average     20\n",
       "Poor              16\n",
       "Very poor          6\n",
       "Exceptional        4\n",
       "Name: count, dtype: int64"
      ]
     },
     "execution_count": 174,
     "metadata": {},
     "output_type": "execute_result"
    }
   ],
   "source": [
    "df.Rating.value_counts()"
   ]
  },
  {
   "cell_type": "code",
   "execution_count": null,
   "id": "c36b4880",
   "metadata": {},
   "outputs": [],
   "source": []
  }
 ],
 "metadata": {
  "kernelspec": {
   "display_name": "Python 3 (ipykernel)",
   "language": "python",
   "name": "python3"
  },
  "language_info": {
   "codemirror_mode": {
    "name": "ipython",
    "version": 3
   },
   "file_extension": ".py",
   "mimetype": "text/x-python",
   "name": "python",
   "nbconvert_exporter": "python",
   "pygments_lexer": "ipython3",
   "version": "3.11.5"
  }
 },
 "nbformat": 4,
 "nbformat_minor": 5
}
